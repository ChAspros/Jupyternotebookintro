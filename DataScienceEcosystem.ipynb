{
 "cells": [
  {
   "cell_type": "markdown",
   "id": "c4123d82-2771-4f5e-9054-ce778fb246ff",
   "metadata": {},
   "source": [
    "<h1>Data Science Tools and Ecosystem\n",
    "    "
   ]
  },
  {
   "cell_type": "markdown",
   "id": "8ee5fd57-3697-46b4-b16a-9306f111821f",
   "metadata": {},
   "source": [
    "In this notebook, Data Science Tools and Ecosystem are summarized."
   ]
  },
  {
   "cell_type": "markdown",
   "id": "37ad84e9-bc02-4f26-a4e7-9a61f32254db",
   "metadata": {},
   "source": [
    "__Objectives:__\n",
    "\n",
    "* Popular languages that Data Scientists use\n",
    "* Commonly used libraries used by Data Scientists\n",
    "* Arithemtic expressions in python\n",
    "* Data Sicence Tools\n",
    "* Utilizing Jupyter Notebooks"
   ]
  },
  {
   "cell_type": "markdown",
   "id": "6222604b-ed63-4db2-8e39-612c2aafb6f4",
   "metadata": {
    "tags": []
   },
   "source": [
    "Some of the popular languages that Data Scientists use are:\n",
    "1. Python\n",
    "2. R\n",
    "3. Julia"
   ]
  },
  {
   "cell_type": "markdown",
   "id": "56778dab-4ea4-4ed0-9ae4-532f8016c896",
   "metadata": {},
   "source": [
    "Some of the commonly used libraries used by Data Scientists include:\n",
    "\n",
    "1. Pandas\n",
    "2. NumPy\n",
    "3. SciPy\n"
   ]
  },
  {
   "cell_type": "markdown",
   "id": "0170fdc8-e019-4b91-96e6-9673e23f5aac",
   "metadata": {},
   "source": [
    "|Data Science Tools|\n",
    "|------------------|\n",
    "|Jupyter Notebook|\n",
    "|Pytorch|\n",
    "|MLFlow|\n"
   ]
  },
  {
   "cell_type": "markdown",
   "id": "5af911be-cb4d-4b9b-9cc1-7a6f5eb1e300",
   "metadata": {},
   "source": [
    "<h3> Below are a few examples of evaluating arithmetic expressions in Python"
   ]
  },
  {
   "cell_type": "code",
   "execution_count": 2,
   "id": "d8d3aba2-b138-4909-bfbb-03cca2932d70",
   "metadata": {
    "tags": []
   },
   "outputs": [
    {
     "data": {
      "text/plain": [
       "17"
      ]
     },
     "execution_count": 2,
     "metadata": {},
     "output_type": "execute_result"
    }
   ],
   "source": [
    "# \"This a simple arithmetic expression to mutiply then add integers\"\n",
    "(3*4)+5"
   ]
  },
  {
   "cell_type": "code",
   "execution_count": 3,
   "id": "bbf2b6a7-f9de-4bd2-ac28-c6a4680ec9bd",
   "metadata": {
    "tags": []
   },
   "outputs": [
    {
     "data": {
      "text/plain": [
       "3.3333333333333335"
      ]
     },
     "execution_count": 3,
     "metadata": {},
     "output_type": "execute_result"
    }
   ],
   "source": [
    "# \"This will convert 200 minutes to hours by diving by 60\"\n",
    "200/60"
   ]
  },
  {
   "cell_type": "code",
   "execution_count": null,
   "id": "a47dca9e-13f9-48af-81ea-6160a5739363",
   "metadata": {},
   "outputs": [],
   "source": []
  }
 ],
 "metadata": {
  "kernelspec": {
   "display_name": "Python",
   "language": "python",
   "name": "conda-env-python-py"
  },
  "language_info": {
   "codemirror_mode": {
    "name": "ipython",
    "version": 3
   },
   "file_extension": ".py",
   "mimetype": "text/x-python",
   "name": "python",
   "nbconvert_exporter": "python",
   "pygments_lexer": "ipython3",
   "version": "3.7.12"
  }
 },
 "nbformat": 4,
 "nbformat_minor": 5
}
